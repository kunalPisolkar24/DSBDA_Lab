{
  "nbformat": 4,
  "nbformat_minor": 0,
  "metadata": {
    "colab": {
      "provenance": []
    },
    "kernelspec": {
      "name": "python3",
      "display_name": "Python 3"
    },
    "language_info": {
      "name": "python"
    }
  },
  "cells": [
    {
      "cell_type": "code",
      "execution_count": 1,
      "metadata": {
        "colab": {
          "base_uri": "https://localhost:8080/"
        },
        "id": "THDDEWnDYURQ",
        "outputId": "c925cd08-5167-45d2-fb4f-57b8d49d41db"
      },
      "outputs": [
        {
          "output_type": "stream",
          "name": "stdout",
          "text": [
            "Requirement already satisfied: nltk in /usr/local/lib/python3.10/dist-packages (3.8.1)\n",
            "Requirement already satisfied: click in /usr/local/lib/python3.10/dist-packages (from nltk) (8.1.7)\n",
            "Requirement already satisfied: joblib in /usr/local/lib/python3.10/dist-packages (from nltk) (1.3.2)\n",
            "Requirement already satisfied: regex>=2021.8.3 in /usr/local/lib/python3.10/dist-packages (from nltk) (2023.12.25)\n",
            "Requirement already satisfied: tqdm in /usr/local/lib/python3.10/dist-packages (from nltk) (4.66.2)\n",
            "Collecting bs4\n",
            "  Downloading bs4-0.0.2-py2.py3-none-any.whl (1.2 kB)\n",
            "Requirement already satisfied: beautifulsoup4 in /usr/local/lib/python3.10/dist-packages (from bs4) (4.12.3)\n",
            "Requirement already satisfied: soupsieve>1.2 in /usr/local/lib/python3.10/dist-packages (from beautifulsoup4->bs4) (2.5)\n",
            "Installing collected packages: bs4\n",
            "Successfully installed bs4-0.0.2\n"
          ]
        }
      ],
      "source": [
        "# importing libs\n",
        "!pip install nltk\n",
        "!pip install bs4"
      ]
    },
    {
      "cell_type": "code",
      "source": [
        "import nltk\n",
        "nltk.download('stopwords')\n",
        "nltk.download('punkt')\n",
        "nltk.download('wordnet')\n",
        "nltk.download('averaged_perceptron_tagger')"
      ],
      "metadata": {
        "colab": {
          "base_uri": "https://localhost:8080/"
        },
        "id": "jRyeie8tY7Si",
        "outputId": "5891a1db-64e7-4a28-e932-7a496bcaa6e4"
      },
      "execution_count": 2,
      "outputs": [
        {
          "output_type": "stream",
          "name": "stderr",
          "text": [
            "[nltk_data] Downloading package stopwords to /root/nltk_data...\n",
            "[nltk_data]   Unzipping corpora/stopwords.zip.\n",
            "[nltk_data] Downloading package punkt to /root/nltk_data...\n",
            "[nltk_data]   Unzipping tokenizers/punkt.zip.\n",
            "[nltk_data] Downloading package wordnet to /root/nltk_data...\n",
            "[nltk_data] Downloading package averaged_perceptron_tagger to\n",
            "[nltk_data]     /root/nltk_data...\n",
            "[nltk_data]   Unzipping taggers/averaged_perceptron_tagger.zip.\n"
          ]
        },
        {
          "output_type": "execute_result",
          "data": {
            "text/plain": [
              "True"
            ]
          },
          "metadata": {},
          "execution_count": 2
        }
      ]
    },
    {
      "cell_type": "code",
      "source": [
        "para = \"Rajgad (literal meaning Ruling Fort) is a hill fort situated in the Pune district of Maharashtra, India. Formerly known as Murumdev, the fort was the capital of the Maratha Empire under the rule of Chatrapati Shivaji Maharaj for almost 26 years, after which the capital was moved to the Raigad Fort.[1] Treasures discovered from an adjacent fort called Torna were used to completely build and fortify the Rajgad Fort. \"\n",
        "print(para)"
      ],
      "metadata": {
        "colab": {
          "base_uri": "https://localhost:8080/"
        },
        "id": "K_ZXpODHZYqQ",
        "outputId": "9a42319f-37f9-4cdb-d204-58bb84a04a64"
      },
      "execution_count": 4,
      "outputs": [
        {
          "output_type": "stream",
          "name": "stdout",
          "text": [
            "Rajgad (literal meaning Ruling Fort) is a hill fort situated in the Pune district of Maharashtra, India. Formerly known as Murumdev, the fort was the capital of the Maratha Empire under the rule of Chatrapati Shivaji Maharaj for almost 26 years, after which the capital was moved to the Raigad Fort.[1] Treasures discovered from an adjacent fort called Torna were used to completely build and fortify the Rajgad Fort. \n"
          ]
        }
      ]
    },
    {
      "cell_type": "code",
      "source": [
        "para.split()"
      ],
      "metadata": {
        "colab": {
          "base_uri": "https://localhost:8080/"
        },
        "id": "VFHmLURBdMdw",
        "outputId": "a35ed31e-e280-4502-9cb4-9b0e9cbf8bd4"
      },
      "execution_count": 6,
      "outputs": [
        {
          "output_type": "execute_result",
          "data": {
            "text/plain": [
              "['Rajgad',\n",
              " '(literal',\n",
              " 'meaning',\n",
              " 'Ruling',\n",
              " 'Fort)',\n",
              " 'is',\n",
              " 'a',\n",
              " 'hill',\n",
              " 'fort',\n",
              " 'situated',\n",
              " 'in',\n",
              " 'the',\n",
              " 'Pune',\n",
              " 'district',\n",
              " 'of',\n",
              " 'Maharashtra,',\n",
              " 'India.',\n",
              " 'Formerly',\n",
              " 'known',\n",
              " 'as',\n",
              " 'Murumdev,',\n",
              " 'the',\n",
              " 'fort',\n",
              " 'was',\n",
              " 'the',\n",
              " 'capital',\n",
              " 'of',\n",
              " 'the',\n",
              " 'Maratha',\n",
              " 'Empire',\n",
              " 'under',\n",
              " 'the',\n",
              " 'rule',\n",
              " 'of',\n",
              " 'Chatrapati',\n",
              " 'Shivaji',\n",
              " 'Maharaj',\n",
              " 'for',\n",
              " 'almost',\n",
              " '26',\n",
              " 'years,',\n",
              " 'after',\n",
              " 'which',\n",
              " 'the',\n",
              " 'capital',\n",
              " 'was',\n",
              " 'moved',\n",
              " 'to',\n",
              " 'the',\n",
              " 'Raigad',\n",
              " 'Fort.[1]',\n",
              " 'Treasures',\n",
              " 'discovered',\n",
              " 'from',\n",
              " 'an',\n",
              " 'adjacent',\n",
              " 'fort',\n",
              " 'called',\n",
              " 'Torna',\n",
              " 'were',\n",
              " 'used',\n",
              " 'to',\n",
              " 'completely',\n",
              " 'build',\n",
              " 'and',\n",
              " 'fortify',\n",
              " 'the',\n",
              " 'Rajgad',\n",
              " 'Fort.']"
            ]
          },
          "metadata": {},
          "execution_count": 6
        }
      ]
    },
    {
      "cell_type": "code",
      "source": [
        "from nltk.corpus import stopwords\n",
        "swords=stopwords.words(\"english\")\n",
        "print(swords)"
      ],
      "metadata": {
        "colab": {
          "base_uri": "https://localhost:8080/"
        },
        "id": "keUjPjrndWWU",
        "outputId": "03ddadfe-2872-4690-e7c4-4d8bb1d832f9"
      },
      "execution_count": 8,
      "outputs": [
        {
          "output_type": "stream",
          "name": "stdout",
          "text": [
            "['i', 'me', 'my', 'myself', 'we', 'our', 'ours', 'ourselves', 'you', \"you're\", \"you've\", \"you'll\", \"you'd\", 'your', 'yours', 'yourself', 'yourselves', 'he', 'him', 'his', 'himself', 'she', \"she's\", 'her', 'hers', 'herself', 'it', \"it's\", 'its', 'itself', 'they', 'them', 'their', 'theirs', 'themselves', 'what', 'which', 'who', 'whom', 'this', 'that', \"that'll\", 'these', 'those', 'am', 'is', 'are', 'was', 'were', 'be', 'been', 'being', 'have', 'has', 'had', 'having', 'do', 'does', 'did', 'doing', 'a', 'an', 'the', 'and', 'but', 'if', 'or', 'because', 'as', 'until', 'while', 'of', 'at', 'by', 'for', 'with', 'about', 'against', 'between', 'into', 'through', 'during', 'before', 'after', 'above', 'below', 'to', 'from', 'up', 'down', 'in', 'out', 'on', 'off', 'over', 'under', 'again', 'further', 'then', 'once', 'here', 'there', 'when', 'where', 'why', 'how', 'all', 'any', 'both', 'each', 'few', 'more', 'most', 'other', 'some', 'such', 'no', 'nor', 'not', 'only', 'own', 'same', 'so', 'than', 'too', 'very', 's', 't', 'can', 'will', 'just', 'don', \"don't\", 'should', \"should've\", 'now', 'd', 'll', 'm', 'o', 're', 've', 'y', 'ain', 'aren', \"aren't\", 'couldn', \"couldn't\", 'didn', \"didn't\", 'doesn', \"doesn't\", 'hadn', \"hadn't\", 'hasn', \"hasn't\", 'haven', \"haven't\", 'isn', \"isn't\", 'ma', 'mightn', \"mightn't\", 'mustn', \"mustn't\", 'needn', \"needn't\", 'shan', \"shan't\", 'shouldn', \"shouldn't\", 'wasn', \"wasn't\", 'weren', \"weren't\", 'won', \"won't\", 'wouldn', \"wouldn't\"]\n"
          ]
        }
      ]
    },
    {
      "cell_type": "code",
      "source": [
        "from nltk.tokenize import sent_tokenize\n",
        "from nltk.tokenize import word_tokenize\n",
        "sent=sent_tokenize(para)\n",
        "print(sent[2])"
      ],
      "metadata": {
        "colab": {
          "base_uri": "https://localhost:8080/"
        },
        "id": "5CUZ0qRNdjdw",
        "outputId": "d2b3f643-acbc-422d-9b0f-8b02d9290c8d"
      },
      "execution_count": 11,
      "outputs": [
        {
          "output_type": "stream",
          "name": "stdout",
          "text": [
            "[1] Treasures discovered from an adjacent fort called Torna were used to completely build and fortify the Rajgad Fort.\n"
          ]
        }
      ]
    },
    {
      "cell_type": "code",
      "source": [
        "words=word_tokenize(para)\n",
        "print(words)"
      ],
      "metadata": {
        "colab": {
          "base_uri": "https://localhost:8080/"
        },
        "id": "abHzRtOXdzSr",
        "outputId": "b5f571d4-8acc-46ec-a119-b88bab0fc663"
      },
      "execution_count": 12,
      "outputs": [
        {
          "output_type": "stream",
          "name": "stdout",
          "text": [
            "['Rajgad', '(', 'literal', 'meaning', 'Ruling', 'Fort', ')', 'is', 'a', 'hill', 'fort', 'situated', 'in', 'the', 'Pune', 'district', 'of', 'Maharashtra', ',', 'India', '.', 'Formerly', 'known', 'as', 'Murumdev', ',', 'the', 'fort', 'was', 'the', 'capital', 'of', 'the', 'Maratha', 'Empire', 'under', 'the', 'rule', 'of', 'Chatrapati', 'Shivaji', 'Maharaj', 'for', 'almost', '26', 'years', ',', 'after', 'which', 'the', 'capital', 'was', 'moved', 'to', 'the', 'Raigad', 'Fort', '.', '[', '1', ']', 'Treasures', 'discovered', 'from', 'an', 'adjacent', 'fort', 'called', 'Torna', 'were', 'used', 'to', 'completely', 'build', 'and', 'fortify', 'the', 'Rajgad', 'Fort', '.']\n"
          ]
        }
      ]
    },
    {
      "cell_type": "code",
      "source": [
        "x=[word for word in words if word not in swords]\n",
        "print(x)"
      ],
      "metadata": {
        "colab": {
          "base_uri": "https://localhost:8080/"
        },
        "id": "GAfdOpBreKFz",
        "outputId": "908a1dbd-f92f-4f9b-a5da-bf63c8608d41"
      },
      "execution_count": 13,
      "outputs": [
        {
          "output_type": "stream",
          "name": "stdout",
          "text": [
            "['Rajgad', '(', 'literal', 'meaning', 'Ruling', 'Fort', ')', 'hill', 'fort', 'situated', 'Pune', 'district', 'Maharashtra', ',', 'India', '.', 'Formerly', 'known', 'Murumdev', ',', 'fort', 'capital', 'Maratha', 'Empire', 'rule', 'Chatrapati', 'Shivaji', 'Maharaj', 'almost', '26', 'years', ',', 'capital', 'moved', 'Raigad', 'Fort', '.', '[', '1', ']', 'Treasures', 'discovered', 'adjacent', 'fort', 'called', 'Torna', 'used', 'completely', 'build', 'fortify', 'Rajgad', 'Fort', '.']\n"
          ]
        }
      ]
    },
    {
      "cell_type": "code",
      "source": [
        "x=[word for word in words if word.lower() not in swords]\n",
        "print(x)"
      ],
      "metadata": {
        "colab": {
          "base_uri": "https://localhost:8080/"
        },
        "id": "gXd4BBW-eO3i",
        "outputId": "9f989e21-a79f-44e9-d533-83b298af5551"
      },
      "execution_count": 14,
      "outputs": [
        {
          "output_type": "stream",
          "name": "stdout",
          "text": [
            "['Rajgad', '(', 'literal', 'meaning', 'Ruling', 'Fort', ')', 'hill', 'fort', 'situated', 'Pune', 'district', 'Maharashtra', ',', 'India', '.', 'Formerly', 'known', 'Murumdev', ',', 'fort', 'capital', 'Maratha', 'Empire', 'rule', 'Chatrapati', 'Shivaji', 'Maharaj', 'almost', '26', 'years', ',', 'capital', 'moved', 'Raigad', 'Fort', '.', '[', '1', ']', 'Treasures', 'discovered', 'adjacent', 'fort', 'called', 'Torna', 'used', 'completely', 'build', 'fortify', 'Rajgad', 'Fort', '.']\n"
          ]
        }
      ]
    },
    {
      "cell_type": "code",
      "source": [
        "from nltk.stem import PorterStemmer\n",
        "ps=PorterStemmer()\n",
        "ps.stem('working')\n",
        "y=[ps.stem(word) for word in x]\n",
        "print(y)"
      ],
      "metadata": {
        "colab": {
          "base_uri": "https://localhost:8080/"
        },
        "id": "R4GiUIc3eS65",
        "outputId": "ccefe2c2-24bf-46ac-e98c-6d5fb059037b"
      },
      "execution_count": 15,
      "outputs": [
        {
          "output_type": "stream",
          "name": "stdout",
          "text": [
            "['rajgad', '(', 'liter', 'mean', 'rule', 'fort', ')', 'hill', 'fort', 'situat', 'pune', 'district', 'maharashtra', ',', 'india', '.', 'formerli', 'known', 'murumdev', ',', 'fort', 'capit', 'maratha', 'empir', 'rule', 'chatrapati', 'shivaji', 'maharaj', 'almost', '26', 'year', ',', 'capit', 'move', 'raigad', 'fort', '.', '[', '1', ']', 'treasur', 'discov', 'adjac', 'fort', 'call', 'torna', 'use', 'complet', 'build', 'fortifi', 'rajgad', 'fort', '.']\n"
          ]
        }
      ]
    },
    {
      "cell_type": "code",
      "source": [
        "from nltk.stem import WordNetLemmatizer\n",
        "wnl=WordNetLemmatizer()\n",
        "wnl. lemmatize('working',pos='v')"
      ],
      "metadata": {
        "colab": {
          "base_uri": "https://localhost:8080/",
          "height": 35
        },
        "id": "usYVjudBerMB",
        "outputId": "55bb6479-2d7f-4045-a16e-7a2d46dc26bc"
      },
      "execution_count": 16,
      "outputs": [
        {
          "output_type": "execute_result",
          "data": {
            "text/plain": [
              "'work'"
            ],
            "application/vnd.google.colaboratory.intrinsic+json": {
              "type": "string"
            }
          },
          "metadata": {},
          "execution_count": 16
        }
      ]
    },
    {
      "cell_type": "code",
      "source": [
        "print(ps.stem('went'))\n",
        "print (wnl.lemmatize('went',pos='v'))"
      ],
      "metadata": {
        "colab": {
          "base_uri": "https://localhost:8080/"
        },
        "id": "O4jfdaK4fFhO",
        "outputId": "529ec8e0-a924-4ea3-f0a1-5f11d80e6a15"
      },
      "execution_count": 18,
      "outputs": [
        {
          "output_type": "stream",
          "name": "stdout",
          "text": [
            "went\n",
            "go\n"
          ]
        }
      ]
    },
    {
      "cell_type": "code",
      "source": [
        "z=[wnl.lemmatize(word,pos='v') for word in x]\n",
        "print(z)"
      ],
      "metadata": {
        "colab": {
          "base_uri": "https://localhost:8080/"
        },
        "id": "hkuf4IKTfJ6X",
        "outputId": "e264d840-6c49-424d-ee26-cca6a20a558b"
      },
      "execution_count": 19,
      "outputs": [
        {
          "output_type": "stream",
          "name": "stdout",
          "text": [
            "['Rajgad', '(', 'literal', 'mean', 'Ruling', 'Fort', ')', 'hill', 'fort', 'situate', 'Pune', 'district', 'Maharashtra', ',', 'India', '.', 'Formerly', 'know', 'Murumdev', ',', 'fort', 'capital', 'Maratha', 'Empire', 'rule', 'Chatrapati', 'Shivaji', 'Maharaj', 'almost', '26', 'years', ',', 'capital', 'move', 'Raigad', 'Fort', '.', '[', '1', ']', 'Treasures', 'discover', 'adjacent', 'fort', 'call', 'Torna', 'use', 'completely', 'build', 'fortify', 'Rajgad', 'Fort', '.']\n"
          ]
        }
      ]
    },
    {
      "cell_type": "code",
      "source": [
        "import string\n",
        "string.punctuation"
      ],
      "metadata": {
        "colab": {
          "base_uri": "https://localhost:8080/",
          "height": 35
        },
        "id": "BDJ2bTjMfMUO",
        "outputId": "19c12e09-ae35-4530-cd18-564a86785cd2"
      },
      "execution_count": 20,
      "outputs": [
        {
          "output_type": "execute_result",
          "data": {
            "text/plain": [
              "'!\"#$%&\\'()*+,-./:;<=>?@[\\\\]^_`{|}~'"
            ],
            "application/vnd.google.colaboratory.intrinsic+json": {
              "type": "string"
            }
          },
          "metadata": {},
          "execution_count": 20
        }
      ]
    },
    {
      "cell_type": "code",
      "source": [
        "t=[word for word in words if word not in string.punctuation]\n",
        "print(t)"
      ],
      "metadata": {
        "colab": {
          "base_uri": "https://localhost:8080/"
        },
        "id": "5MgTJ_jkfpo9",
        "outputId": "97faa0b2-7507-4808-ee5e-7ecd68f90809"
      },
      "execution_count": 21,
      "outputs": [
        {
          "output_type": "stream",
          "name": "stdout",
          "text": [
            "['Rajgad', 'literal', 'meaning', 'Ruling', 'Fort', 'is', 'a', 'hill', 'fort', 'situated', 'in', 'the', 'Pune', 'district', 'of', 'Maharashtra', 'India', 'Formerly', 'known', 'as', 'Murumdev', 'the', 'fort', 'was', 'the', 'capital', 'of', 'the', 'Maratha', 'Empire', 'under', 'the', 'rule', 'of', 'Chatrapati', 'Shivaji', 'Maharaj', 'for', 'almost', '26', 'years', 'after', 'which', 'the', 'capital', 'was', 'moved', 'to', 'the', 'Raigad', 'Fort', '1', 'Treasures', 'discovered', 'from', 'an', 'adjacent', 'fort', 'called', 'Torna', 'were', 'used', 'to', 'completely', 'build', 'and', 'fortify', 'the', 'Rajgad', 'Fort']\n"
          ]
        }
      ]
    },
    {
      "cell_type": "code",
      "source": [
        "from nltk import pos_tag\n",
        "print(pos_tag(t))"
      ],
      "metadata": {
        "colab": {
          "base_uri": "https://localhost:8080/"
        },
        "id": "GaHasAeUftDM",
        "outputId": "9a15d4c4-2706-44c6-9f17-da2250a9c393"
      },
      "execution_count": 22,
      "outputs": [
        {
          "output_type": "stream",
          "name": "stdout",
          "text": [
            "[('Rajgad', 'NNP'), ('literal', 'JJ'), ('meaning', 'NN'), ('Ruling', 'NNP'), ('Fort', 'NNP'), ('is', 'VBZ'), ('a', 'DT'), ('hill', 'NN'), ('fort', 'NN'), ('situated', 'VBN'), ('in', 'IN'), ('the', 'DT'), ('Pune', 'NNP'), ('district', 'NN'), ('of', 'IN'), ('Maharashtra', 'NNP'), ('India', 'NNP'), ('Formerly', 'RB'), ('known', 'VBN'), ('as', 'IN'), ('Murumdev', 'NNP'), ('the', 'DT'), ('fort', 'NN'), ('was', 'VBD'), ('the', 'DT'), ('capital', 'NN'), ('of', 'IN'), ('the', 'DT'), ('Maratha', 'NNP'), ('Empire', 'NNP'), ('under', 'IN'), ('the', 'DT'), ('rule', 'NN'), ('of', 'IN'), ('Chatrapati', 'NNP'), ('Shivaji', 'NNP'), ('Maharaj', 'NNP'), ('for', 'IN'), ('almost', 'RB'), ('26', 'CD'), ('years', 'NNS'), ('after', 'IN'), ('which', 'WDT'), ('the', 'DT'), ('capital', 'NN'), ('was', 'VBD'), ('moved', 'VBN'), ('to', 'TO'), ('the', 'DT'), ('Raigad', 'NNP'), ('Fort', 'NNP'), ('1', 'CD'), ('Treasures', 'NNS'), ('discovered', 'VBN'), ('from', 'IN'), ('an', 'DT'), ('adjacent', 'JJ'), ('fort', 'NN'), ('called', 'VBN'), ('Torna', 'NNP'), ('were', 'VBD'), ('used', 'VBN'), ('to', 'TO'), ('completely', 'RB'), ('build', 'VB'), ('and', 'CC'), ('fortify', 'VB'), ('the', 'DT'), ('Rajgad', 'NNP'), ('Fort', 'NNP')]\n"
          ]
        }
      ]
    },
    {
      "cell_type": "code",
      "source": [
        "from sklearn.feature_extraction.text import TfidfVectorizer\n",
        "tfidf = TfidfVectorizer()\n",
        "v=tfidf.fit_transform(t)\n",
        "print(v.shape)"
      ],
      "metadata": {
        "colab": {
          "base_uri": "https://localhost:8080/"
        },
        "id": "TTIDo7cJfxdC",
        "outputId": "03156da0-95b8-4a26-8115-fc2b0aaeea63"
      },
      "execution_count": 23,
      "outputs": [
        {
          "output_type": "stream",
          "name": "stdout",
          "text": [
            "(70, 50)\n"
          ]
        }
      ]
    },
    {
      "cell_type": "code",
      "source": [
        "import pandas as pd\n",
        "pd.DataFrame(v)"
      ],
      "metadata": {
        "colab": {
          "base_uri": "https://localhost:8080/",
          "height": 424
        },
        "id": "8SL4oxP7gFME",
        "outputId": "5f869af0-d466-4db2-9672-10f442f721e2"
      },
      "execution_count": 24,
      "outputs": [
        {
          "output_type": "execute_result",
          "data": {
            "text/plain": [
              "                 0\n",
              "0     (0, 35)\\t1.0\n",
              "1     (0, 25)\\t1.0\n",
              "2     (0, 29)\\t1.0\n",
              "3     (0, 37)\\t1.0\n",
              "4     (0, 17)\\t1.0\n",
              "..             ...\n",
              "65     (0, 5)\\t1.0\n",
              "66    (0, 18)\\t1.0\n",
              "67    (0, 40)\\t1.0\n",
              "68    (0, 35)\\t1.0\n",
              "69    (0, 17)\\t1.0\n",
              "\n",
              "[70 rows x 1 columns]"
            ],
            "text/html": [
              "\n",
              "  <div id=\"df-e29be499-05b8-4c8f-b173-e7bb2874731f\" class=\"colab-df-container\">\n",
              "    <div>\n",
              "<style scoped>\n",
              "    .dataframe tbody tr th:only-of-type {\n",
              "        vertical-align: middle;\n",
              "    }\n",
              "\n",
              "    .dataframe tbody tr th {\n",
              "        vertical-align: top;\n",
              "    }\n",
              "\n",
              "    .dataframe thead th {\n",
              "        text-align: right;\n",
              "    }\n",
              "</style>\n",
              "<table border=\"1\" class=\"dataframe\">\n",
              "  <thead>\n",
              "    <tr style=\"text-align: right;\">\n",
              "      <th></th>\n",
              "      <th>0</th>\n",
              "    </tr>\n",
              "  </thead>\n",
              "  <tbody>\n",
              "    <tr>\n",
              "      <th>0</th>\n",
              "      <td>(0, 35)\\t1.0</td>\n",
              "    </tr>\n",
              "    <tr>\n",
              "      <th>1</th>\n",
              "      <td>(0, 25)\\t1.0</td>\n",
              "    </tr>\n",
              "    <tr>\n",
              "      <th>2</th>\n",
              "      <td>(0, 29)\\t1.0</td>\n",
              "    </tr>\n",
              "    <tr>\n",
              "      <th>3</th>\n",
              "      <td>(0, 37)\\t1.0</td>\n",
              "    </tr>\n",
              "    <tr>\n",
              "      <th>4</th>\n",
              "      <td>(0, 17)\\t1.0</td>\n",
              "    </tr>\n",
              "    <tr>\n",
              "      <th>...</th>\n",
              "      <td>...</td>\n",
              "    </tr>\n",
              "    <tr>\n",
              "      <th>65</th>\n",
              "      <td>(0, 5)\\t1.0</td>\n",
              "    </tr>\n",
              "    <tr>\n",
              "      <th>66</th>\n",
              "      <td>(0, 18)\\t1.0</td>\n",
              "    </tr>\n",
              "    <tr>\n",
              "      <th>67</th>\n",
              "      <td>(0, 40)\\t1.0</td>\n",
              "    </tr>\n",
              "    <tr>\n",
              "      <th>68</th>\n",
              "      <td>(0, 35)\\t1.0</td>\n",
              "    </tr>\n",
              "    <tr>\n",
              "      <th>69</th>\n",
              "      <td>(0, 17)\\t1.0</td>\n",
              "    </tr>\n",
              "  </tbody>\n",
              "</table>\n",
              "<p>70 rows × 1 columns</p>\n",
              "</div>\n",
              "    <div class=\"colab-df-buttons\">\n",
              "\n",
              "  <div class=\"colab-df-container\">\n",
              "    <button class=\"colab-df-convert\" onclick=\"convertToInteractive('df-e29be499-05b8-4c8f-b173-e7bb2874731f')\"\n",
              "            title=\"Convert this dataframe to an interactive table.\"\n",
              "            style=\"display:none;\">\n",
              "\n",
              "  <svg xmlns=\"http://www.w3.org/2000/svg\" height=\"24px\" viewBox=\"0 -960 960 960\">\n",
              "    <path d=\"M120-120v-720h720v720H120Zm60-500h600v-160H180v160Zm220 220h160v-160H400v160Zm0 220h160v-160H400v160ZM180-400h160v-160H180v160Zm440 0h160v-160H620v160ZM180-180h160v-160H180v160Zm440 0h160v-160H620v160Z\"/>\n",
              "  </svg>\n",
              "    </button>\n",
              "\n",
              "  <style>\n",
              "    .colab-df-container {\n",
              "      display:flex;\n",
              "      gap: 12px;\n",
              "    }\n",
              "\n",
              "    .colab-df-convert {\n",
              "      background-color: #E8F0FE;\n",
              "      border: none;\n",
              "      border-radius: 50%;\n",
              "      cursor: pointer;\n",
              "      display: none;\n",
              "      fill: #1967D2;\n",
              "      height: 32px;\n",
              "      padding: 0 0 0 0;\n",
              "      width: 32px;\n",
              "    }\n",
              "\n",
              "    .colab-df-convert:hover {\n",
              "      background-color: #E2EBFA;\n",
              "      box-shadow: 0px 1px 2px rgba(60, 64, 67, 0.3), 0px 1px 3px 1px rgba(60, 64, 67, 0.15);\n",
              "      fill: #174EA6;\n",
              "    }\n",
              "\n",
              "    .colab-df-buttons div {\n",
              "      margin-bottom: 4px;\n",
              "    }\n",
              "\n",
              "    [theme=dark] .colab-df-convert {\n",
              "      background-color: #3B4455;\n",
              "      fill: #D2E3FC;\n",
              "    }\n",
              "\n",
              "    [theme=dark] .colab-df-convert:hover {\n",
              "      background-color: #434B5C;\n",
              "      box-shadow: 0px 1px 3px 1px rgba(0, 0, 0, 0.15);\n",
              "      filter: drop-shadow(0px 1px 2px rgba(0, 0, 0, 0.3));\n",
              "      fill: #FFFFFF;\n",
              "    }\n",
              "  </style>\n",
              "\n",
              "    <script>\n",
              "      const buttonEl =\n",
              "        document.querySelector('#df-e29be499-05b8-4c8f-b173-e7bb2874731f button.colab-df-convert');\n",
              "      buttonEl.style.display =\n",
              "        google.colab.kernel.accessAllowed ? 'block' : 'none';\n",
              "\n",
              "      async function convertToInteractive(key) {\n",
              "        const element = document.querySelector('#df-e29be499-05b8-4c8f-b173-e7bb2874731f');\n",
              "        const dataTable =\n",
              "          await google.colab.kernel.invokeFunction('convertToInteractive',\n",
              "                                                    [key], {});\n",
              "        if (!dataTable) return;\n",
              "\n",
              "        const docLinkHtml = 'Like what you see? Visit the ' +\n",
              "          '<a target=\"_blank\" href=https://colab.research.google.com/notebooks/data_table.ipynb>data table notebook</a>'\n",
              "          + ' to learn more about interactive tables.';\n",
              "        element.innerHTML = '';\n",
              "        dataTable['output_type'] = 'display_data';\n",
              "        await google.colab.output.renderOutput(dataTable, element);\n",
              "        const docLink = document.createElement('div');\n",
              "        docLink.innerHTML = docLinkHtml;\n",
              "        element.appendChild(docLink);\n",
              "      }\n",
              "    </script>\n",
              "  </div>\n",
              "\n",
              "\n",
              "<div id=\"df-a0620134-5fb9-4ab8-9006-6294fd345fff\">\n",
              "  <button class=\"colab-df-quickchart\" onclick=\"quickchart('df-a0620134-5fb9-4ab8-9006-6294fd345fff')\"\n",
              "            title=\"Suggest charts\"\n",
              "            style=\"display:none;\">\n",
              "\n",
              "<svg xmlns=\"http://www.w3.org/2000/svg\" height=\"24px\"viewBox=\"0 0 24 24\"\n",
              "     width=\"24px\">\n",
              "    <g>\n",
              "        <path d=\"M19 3H5c-1.1 0-2 .9-2 2v14c0 1.1.9 2 2 2h14c1.1 0 2-.9 2-2V5c0-1.1-.9-2-2-2zM9 17H7v-7h2v7zm4 0h-2V7h2v10zm4 0h-2v-4h2v4z\"/>\n",
              "    </g>\n",
              "</svg>\n",
              "  </button>\n",
              "\n",
              "<style>\n",
              "  .colab-df-quickchart {\n",
              "      --bg-color: #E8F0FE;\n",
              "      --fill-color: #1967D2;\n",
              "      --hover-bg-color: #E2EBFA;\n",
              "      --hover-fill-color: #174EA6;\n",
              "      --disabled-fill-color: #AAA;\n",
              "      --disabled-bg-color: #DDD;\n",
              "  }\n",
              "\n",
              "  [theme=dark] .colab-df-quickchart {\n",
              "      --bg-color: #3B4455;\n",
              "      --fill-color: #D2E3FC;\n",
              "      --hover-bg-color: #434B5C;\n",
              "      --hover-fill-color: #FFFFFF;\n",
              "      --disabled-bg-color: #3B4455;\n",
              "      --disabled-fill-color: #666;\n",
              "  }\n",
              "\n",
              "  .colab-df-quickchart {\n",
              "    background-color: var(--bg-color);\n",
              "    border: none;\n",
              "    border-radius: 50%;\n",
              "    cursor: pointer;\n",
              "    display: none;\n",
              "    fill: var(--fill-color);\n",
              "    height: 32px;\n",
              "    padding: 0;\n",
              "    width: 32px;\n",
              "  }\n",
              "\n",
              "  .colab-df-quickchart:hover {\n",
              "    background-color: var(--hover-bg-color);\n",
              "    box-shadow: 0 1px 2px rgba(60, 64, 67, 0.3), 0 1px 3px 1px rgba(60, 64, 67, 0.15);\n",
              "    fill: var(--button-hover-fill-color);\n",
              "  }\n",
              "\n",
              "  .colab-df-quickchart-complete:disabled,\n",
              "  .colab-df-quickchart-complete:disabled:hover {\n",
              "    background-color: var(--disabled-bg-color);\n",
              "    fill: var(--disabled-fill-color);\n",
              "    box-shadow: none;\n",
              "  }\n",
              "\n",
              "  .colab-df-spinner {\n",
              "    border: 2px solid var(--fill-color);\n",
              "    border-color: transparent;\n",
              "    border-bottom-color: var(--fill-color);\n",
              "    animation:\n",
              "      spin 1s steps(1) infinite;\n",
              "  }\n",
              "\n",
              "  @keyframes spin {\n",
              "    0% {\n",
              "      border-color: transparent;\n",
              "      border-bottom-color: var(--fill-color);\n",
              "      border-left-color: var(--fill-color);\n",
              "    }\n",
              "    20% {\n",
              "      border-color: transparent;\n",
              "      border-left-color: var(--fill-color);\n",
              "      border-top-color: var(--fill-color);\n",
              "    }\n",
              "    30% {\n",
              "      border-color: transparent;\n",
              "      border-left-color: var(--fill-color);\n",
              "      border-top-color: var(--fill-color);\n",
              "      border-right-color: var(--fill-color);\n",
              "    }\n",
              "    40% {\n",
              "      border-color: transparent;\n",
              "      border-right-color: var(--fill-color);\n",
              "      border-top-color: var(--fill-color);\n",
              "    }\n",
              "    60% {\n",
              "      border-color: transparent;\n",
              "      border-right-color: var(--fill-color);\n",
              "    }\n",
              "    80% {\n",
              "      border-color: transparent;\n",
              "      border-right-color: var(--fill-color);\n",
              "      border-bottom-color: var(--fill-color);\n",
              "    }\n",
              "    90% {\n",
              "      border-color: transparent;\n",
              "      border-bottom-color: var(--fill-color);\n",
              "    }\n",
              "  }\n",
              "</style>\n",
              "\n",
              "  <script>\n",
              "    async function quickchart(key) {\n",
              "      const quickchartButtonEl =\n",
              "        document.querySelector('#' + key + ' button');\n",
              "      quickchartButtonEl.disabled = true;  // To prevent multiple clicks.\n",
              "      quickchartButtonEl.classList.add('colab-df-spinner');\n",
              "      try {\n",
              "        const charts = await google.colab.kernel.invokeFunction(\n",
              "            'suggestCharts', [key], {});\n",
              "      } catch (error) {\n",
              "        console.error('Error during call to suggestCharts:', error);\n",
              "      }\n",
              "      quickchartButtonEl.classList.remove('colab-df-spinner');\n",
              "      quickchartButtonEl.classList.add('colab-df-quickchart-complete');\n",
              "    }\n",
              "    (() => {\n",
              "      let quickchartButtonEl =\n",
              "        document.querySelector('#df-a0620134-5fb9-4ab8-9006-6294fd345fff button');\n",
              "      quickchartButtonEl.style.display =\n",
              "        google.colab.kernel.accessAllowed ? 'block' : 'none';\n",
              "    })();\n",
              "  </script>\n",
              "</div>\n",
              "\n",
              "    </div>\n",
              "  </div>\n"
            ],
            "application/vnd.google.colaboratory.intrinsic+json": {
              "type": "dataframe",
              "summary": "{\n  \"name\": \"pd\",\n  \"rows\": 70,\n  \"fields\": [\n    {\n      \"column\": 0,\n      \"properties\": {\n        \"dtype\": \"object\",\n        \"semantic_type\": \"\",\n        \"description\": \"\"\n      }\n    }\n  ]\n}"
            }
          },
          "metadata": {},
          "execution_count": 24
        }
      ]
    }
  ]
}