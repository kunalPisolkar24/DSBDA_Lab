{
  "nbformat": 4,
  "nbformat_minor": 0,
  "metadata": {
    "colab": {
      "provenance": []
    },
    "kernelspec": {
      "name": "python3",
      "display_name": "Python 3"
    },
    "language_info": {
      "name": "python"
    }
  },
  "cells": [
    {
      "cell_type": "code",
      "execution_count": 2,
      "metadata": {
        "colab": {
          "base_uri": "https://localhost:8080/"
        },
        "id": "XwHbG7k_lr3I",
        "outputId": "918590ea-48dc-4cdb-923c-98134df02c36"
      },
      "outputs": [
        {
          "output_type": "stream",
          "name": "stdout",
          "text": [
            "Datatypes: \n",
            " sepal_length    float64\n",
            "sepal_width     float64\n",
            "petal_length    float64\n",
            "petal_width     float64\n",
            "species          object\n",
            "dtype: object\n",
            "\n",
            "\n",
            "\n",
            " Shape is:  (150, 5)\n"
          ]
        }
      ],
      "source": [
        "import pandas as pd\n",
        "import matplotlib.pyplot as plt\n",
        "import seaborn as sns\n",
        "\n",
        "df = pd.read_csv(\"iris.csv\")\n",
        "br = \"\\n\\n\\n\"\n",
        "print(\"Datatypes: \\n\", df.dtypes)\n",
        "print(br, \"Shape is: \", df.shape)\n"
      ]
    },
    {
      "cell_type": "code",
      "source": [
        "x = df.drop(\"species\", axis=1)\n",
        "\n",
        "y = df[\"species\"]"
      ],
      "metadata": {
        "id": "AbgEzDjXmPSM"
      },
      "execution_count": 3,
      "outputs": []
    },
    {
      "cell_type": "code",
      "source": [
        "print(\"Counts: \",br, y.value_counts())"
      ],
      "metadata": {
        "colab": {
          "base_uri": "https://localhost:8080/"
        },
        "id": "xhnc1dz-mgJG",
        "outputId": "d5ffb4ac-ff2e-4667-d7d6-caff40d443a3"
      },
      "execution_count": 5,
      "outputs": [
        {
          "output_type": "stream",
          "name": "stdout",
          "text": [
            "Counts:  \n",
            "\n",
            "\n",
            " setosa        50\n",
            "versicolor    50\n",
            "virginica     50\n",
            "Name: species, dtype: int64\n"
          ]
        }
      ]
    },
    {
      "cell_type": "code",
      "source": [
        "from sklearn.model_selection import train_test_split\n",
        "X_train, X_test, Y_train, Y_test = train_test_split(x, y, random_state=42, test_size=0.25)"
      ],
      "metadata": {
        "id": "URQv0avWmk2F"
      },
      "execution_count": 6,
      "outputs": []
    },
    {
      "cell_type": "code",
      "source": [
        "print(\"X train shape: \", X_train.shape)\n",
        "print(br, \"X test shape: \", X_test.shape)"
      ],
      "metadata": {
        "colab": {
          "base_uri": "https://localhost:8080/"
        },
        "id": "tHRfjoX-m_N2",
        "outputId": "c0dd687d-9b07-4176-87a3-5fb3636df939"
      },
      "execution_count": 8,
      "outputs": [
        {
          "output_type": "stream",
          "name": "stdout",
          "text": [
            "X train shape:  (112, 4)\n",
            "\n",
            "\n",
            "\n",
            " X test shape:  (38, 4)\n"
          ]
        }
      ]
    },
    {
      "cell_type": "code",
      "source": [
        "from sklearn.naive_bayes import GaussianNB\n",
        "cls = GaussianNB()\n",
        "cls.fit(X_train, Y_train)\n",
        "Y_pred = cls.predict(X_test)"
      ],
      "metadata": {
        "id": "cvgb8D6QnQBz"
      },
      "execution_count": 9,
      "outputs": []
    },
    {
      "cell_type": "code",
      "source": [
        "from sklearn.metrics import confusion_matrix\n",
        "from sklearn.metrics import classification_report\n",
        "from sklearn.metrics import accuracy_score"
      ],
      "metadata": {
        "id": "kfYA2713nl0I"
      },
      "execution_count": 11,
      "outputs": []
    },
    {
      "cell_type": "code",
      "source": [
        "cm = confusion_matrix(Y_test, Y_pred)\n",
        "\n",
        "# Create a new figure and a set of subplots\n",
        "fig, ax = plt.subplots(figsize=(10, 10))\n",
        "\n",
        "# Create a heatmap of the confusion matrix with a custom color map\n",
        "sns.heatmap(cm, annot=True, fmt='d', cmap='coolwarm', ax=ax)\n",
        "\n",
        "# Set the title of the confusion matrix\n",
        "ax.set_title('Confusion Matrix')\n",
        "\n",
        "# Set the x and y axis labels\n",
        "ax.set_xlabel('Predicted')\n",
        "ax.set_ylabel('True')\n",
        "\n",
        "# Display the confusion matrix\n",
        "plt.show()"
      ],
      "metadata": {
        "colab": {
          "base_uri": "https://localhost:8080/",
          "height": 872
        },
        "id": "qwZx-jdRns5D",
        "outputId": "fc68804b-4a0c-4e14-dc47-df4d7cd6b181"
      },
      "execution_count": 15,
      "outputs": [
        {
          "output_type": "display_data",
          "data": {
            "text/plain": [
              "<Figure size 1000x1000 with 2 Axes>"
            ],
            "image/png": "[encoded data removed]"
          },
          "metadata": {}
        }
      ]
    },
    {
      "cell_type": "code",
      "source": [
        "print(\"Accuracy Score is \", accuracy_score(Y_test,Y_pred))"
      ],
      "metadata": {
        "colab": {
          "base_uri": "https://localhost:8080/"
        },
        "id": "TnDk7Z7Pom5j",
        "outputId": "2da80e27-9b77-4f81-90ce-545968f46729"
      },
      "execution_count": 17,
      "outputs": [
        {
          "output_type": "stream",
          "name": "stdout",
          "text": [
            "Accuracy Score is  1.0\n"
          ]
        }
      ]
    },
    {
      "cell_type": "code",
      "source": [
        "cls.predict_proba(X_test)"
      ],
      "metadata": {
        "colab": {
          "base_uri": "https://localhost:8080/"
        },
        "id": "6aPnJBDKpJ6T",
        "outputId": "315b4736-54e1-49f3-bc3a-fa79abf48074"
      },
      "execution_count": 19,
      "outputs": [
        {
          "output_type": "execute_result",
          "data": {
            "text/plain": [
              "array([[5.97926853e-094, 9.95499546e-001, 4.50045384e-003],\n",
              "       [1.00000000e+000, 1.52146968e-013, 1.07136902e-020],\n",
              "       [1.71330808e-299, 6.04667826e-012, 1.00000000e+000],\n",
              "       [2.88508207e-096, 9.76485329e-001, 2.35146713e-002],\n",
              "       [1.36797133e-109, 8.51147229e-001, 1.48852771e-001],\n",
              "       [1.00000000e+000, 4.74962788e-013, 4.28854236e-021],\n",
              "       [3.25153316e-053, 9.99959350e-001, 4.06500520e-005],\n",
              "       [1.09216160e-176, 1.05015117e-006, 9.99998950e-001],\n",
              "       [3.27169186e-098, 9.93646597e-001, 6.35340277e-003],\n",
              "       [1.17401351e-060, 9.99944993e-001, 5.50073382e-005],\n",
              "       [1.00765817e-153, 5.02929583e-004, 9.99497070e-001],\n",
              "       [1.00000000e+000, 7.95517827e-017, 5.80301835e-025],\n",
              "       [1.00000000e+000, 1.83324108e-016, 2.96899989e-024],\n",
              "       [1.00000000e+000, 1.81709952e-016, 2.19054140e-024],\n",
              "       [1.00000000e+000, 2.58611124e-016, 6.24907433e-024],\n",
              "       [4.90534771e-110, 5.45081346e-001, 4.54918654e-001],\n",
              "       [3.16184825e-207, 5.32942939e-007, 9.99999467e-001],\n",
              "       [5.54971964e-057, 9.99985948e-001, 1.40522914e-005],\n",
              "       [2.35216801e-087, 9.98060492e-001, 1.93950811e-003],\n",
              "       [8.52134069e-195, 3.31416502e-006, 9.99996686e-001],\n",
              "       [1.00000000e+000, 2.01691401e-015, 2.19989447e-023],\n",
              "       [1.10030136e-129, 9.28827573e-002, 9.07117243e-001],\n",
              "       [1.00000000e+000, 3.55180650e-013, 3.14309037e-021],\n",
              "       [4.61090739e-188, 1.99740486e-005, 9.99980026e-001],\n",
              "       [5.38997715e-243, 9.37394931e-010, 9.99999999e-001],\n",
              "       [8.41240591e-181, 1.33362177e-006, 9.99998666e-001],\n",
              "       [7.84665916e-184, 7.04291221e-004, 9.99295709e-001],\n",
              "       [4.06568213e-222, 1.32017082e-008, 9.99999987e-001],\n",
              "       [1.00000000e+000, 7.64632371e-015, 2.10335817e-023],\n",
              "       [1.00000000e+000, 4.36746748e-015, 3.82841755e-023],\n",
              "       [1.00000000e+000, 1.67045858e-018, 1.11343221e-026],\n",
              "       [1.00000000e+000, 6.19486746e-016, 6.98399326e-023],\n",
              "       [1.29430190e-090, 9.62168850e-001, 3.78311504e-002],\n",
              "       [1.00000000e+000, 6.72672239e-016, 1.17370919e-023],\n",
              "       [1.00000000e+000, 5.25411235e-017, 2.85220284e-025],\n",
              "       [4.98861144e-142, 3.13601455e-002, 9.68639854e-001],\n",
              "       [2.84242806e-097, 9.05614884e-001, 9.43851163e-002],\n",
              "       [1.00000000e+000, 2.90496807e-016, 5.87418518e-024]])"
            ]
          },
          "metadata": {},
          "execution_count": 19
        }
      ]
    },
    {
      "cell_type": "code",
      "source": [
        "newl=[[4.5,2.9,3.1,0.4]]\n",
        "print(\"Row1 prediction: \", cls.predict(newl)[0])\n",
        "\n",
        "newl=[[5.5,3.1,1.0,0.8]]\n",
        "print(\"Row2 prediction: \", cls.predict(newl)[0])\n",
        "\n",
        "newl=[[6.5,3.3,4.9,1.8]]\n",
        "print(\"Row3 prediction: \", cls.predict(newl)[0])\n",
        "print(br)"
      ],
      "metadata": {
        "colab": {
          "base_uri": "https://localhost:8080/"
        },
        "id": "IW8o_yyYpQa5",
        "outputId": "826f18ff-d2e7-423d-ec91-f11daf8a2d38"
      },
      "execution_count": 23,
      "outputs": [
        {
          "output_type": "stream",
          "name": "stdout",
          "text": [
            "Row1 prediction:  versicolor\n",
            "Row2 prediction:  setosa\n",
            "Row3 prediction:  virginica\n",
            "\n",
            "\n",
            "\n",
            "\n"
          ]
        },
        {
          "output_type": "stream",
          "name": "stderr",
          "text": [
            "/usr/local/lib/python3.10/dist-packages/sklearn/base.py:439: UserWarning: X does not have valid feature names, but GaussianNB was fitted with feature names\n",
            "  warnings.warn(\n",
            "/usr/local/lib/python3.10/dist-packages/sklearn/base.py:439: UserWarning: X does not have valid feature names, but GaussianNB was fitted with feature names\n",
            "  warnings.warn(\n",
            "/usr/local/lib/python3.10/dist-packages/sklearn/base.py:439: UserWarning: X does not have valid feature names, but GaussianNB was fitted with feature names\n",
            "  warnings.warn(\n"
          ]
        }
      ]
    },
    {
      "cell_type": "code",
      "source": [
        "print(classification_report(Y_test,Y_pred))"
      ],
      "metadata": {
        "colab": {
          "base_uri": "https://localhost:8080/"
        },
        "id": "2AI7xABdph9F",
        "outputId": "84bb3d41-89ff-4a03-f7f8-1e1de5cfe9d0"
      },
      "execution_count": 24,
      "outputs": [
        {
          "output_type": "stream",
          "name": "stdout",
          "text": [
            "              precision    recall  f1-score   support\n",
            "\n",
            "      setosa       1.00      1.00      1.00        15\n",
            "  versicolor       1.00      1.00      1.00        11\n",
            "   virginica       1.00      1.00      1.00        12\n",
            "\n",
            "    accuracy                           1.00        38\n",
            "   macro avg       1.00      1.00      1.00        38\n",
            "weighted avg       1.00      1.00      1.00        38\n",
            "\n"
          ]
        }
      ]
    },
    {
      "cell_type": "code",
      "source": [],
      "metadata": {
        "id": "GjkWrDbdpz-i"
      },
      "execution_count": null,
      "outputs": []
    }
  ]
}