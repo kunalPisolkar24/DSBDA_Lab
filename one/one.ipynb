{
  "cells": [
    {
      "cell_type": "code",
      "execution_count": null,
      "id": "21b902e9",
      "metadata": {
        "id": "21b902e9",
        "outputId": "ccde8e14-045c-4adb-f9d9-c533363acefb"
      },
      "outputs": [
        {
          "name": "stdout",
          "output_type": "stream",
          "text": [
            "              A_id         Size       Weight    Sweetness  Crunchiness  \\\n",
            "count  4000.000000  4000.000000  4000.000000  4000.000000  4000.000000   \n",
            "mean   1999.500000    -0.503015    -0.989547    -0.470479     0.985478   \n",
            "std    1154.844867     1.928059     1.602507     1.943441     1.402757   \n",
            "min       0.000000    -7.151703    -7.149848    -6.894485    -6.055058   \n",
            "25%     999.750000    -1.816765    -2.011770    -1.738425     0.062764   \n",
            "50%    1999.500000    -0.513703    -0.984736    -0.504758     0.998249   \n",
            "75%    2999.250000     0.805526     0.030976     0.801922     1.894234   \n",
            "max    3999.000000     6.406367     5.790714     6.374916     7.619852   \n",
            "\n",
            "         Juiciness     Ripeness  \n",
            "count  4000.000000  4000.000000  \n",
            "mean      0.512118     0.498277  \n",
            "std       1.930286     1.874427  \n",
            "min      -5.961897    -5.864599  \n",
            "25%      -0.801286    -0.771677  \n",
            "50%       0.534219     0.503445  \n",
            "75%       1.835976     1.766212  \n",
            "max       7.364403     7.237837  \n"
          ]
        }
      ],
      "source": [
        "# Import necessary libraries\n",
        "import pandas as pd\n",
        "import numpy as np\n",
        "import matplotlib.pyplot as plt\n",
        "from sklearn import metrics\n",
        "from sklearn.neighbors import KNeighborsClassifier\n",
        "from sklearn.linear_model import LogisticRegression\n",
        "from sklearn.model_selection import train_test_split\n",
        "\n",
        "# Read the CSV data\n",
        "df = pd.read_csv(r\"C:\\Users\\Network lab-16\\Desktop\\apple_quality.csv\")\n",
        "\n",
        "# Use pandas describe() function\n",
        "description = df.describe()\n"
      ]
    },
    {
      "cell_type": "code",
      "execution_count": null,
      "id": "f6425bac",
      "metadata": {
        "id": "f6425bac",
        "outputId": "c1add31e-3f38-4229-9bab-12d0c91b6e2f"
      },
      "outputs": [
        {
          "name": "stdout",
          "output_type": "stream",
          "text": [
            "Displaying the first 5 rows of the DataFrame:\n",
            "   A_id      Size    Weight  Sweetness  Crunchiness  Juiciness  Ripeness  \\\n",
            "0   0.0 -3.970049 -2.512336   5.346330    -1.012009   1.844900  0.329840   \n",
            "1   1.0 -1.195217 -2.839257   3.664059     1.588232   0.853286  0.867530   \n",
            "2   2.0 -0.292024 -1.351282  -1.738429    -0.342616   2.838636 -0.038033   \n",
            "3   3.0 -0.657196 -2.271627   1.324874    -0.097875   3.637970 -3.413761   \n",
            "4   4.0  1.364217 -1.296612  -0.384658    -0.553006   3.030874 -1.303849   \n",
            "\n",
            "        Acidity Quality  \n",
            "0  -0.491590483    good  \n",
            "1  -0.722809367    good  \n",
            "2   2.621636473     bad  \n",
            "3   0.790723217    good  \n",
            "4   0.501984036    good  \n",
            "\n",
            "Displaying the last 5 rows of the DataFrame:\n",
            "        A_id      Size    Weight  Sweetness  Crunchiness  Juiciness  Ripeness  \\\n",
            "3996  3996.0 -0.293118  1.949253  -0.204020    -0.640196   0.024523 -1.087900   \n",
            "3997  3997.0 -2.634515 -2.138247  -2.440461     0.657223   2.199709  4.763859   \n",
            "3998  3998.0 -4.008004 -1.779337   2.366397    -0.200329   2.161435  0.214488   \n",
            "3999  3999.0  0.278540 -1.715505   0.121217    -1.154075   1.266677 -0.776571   \n",
            "4000  1999.5 -0.503015 -0.989547  -0.470479     0.985478   0.512118  0.498277   \n",
            "\n",
            "                                Acidity Quality  \n",
            "3996                        1.854235285    good  \n",
            "3997                       -1.334611391     bad  \n",
            "3998                       -2.229719806    good  \n",
            "3999                        1.599796456    good  \n",
            "4000  Created_by_Nidula_Elgiriyewithana     NaN  \n",
            "\n",
            "The shape of the DataFrame is:\n",
            "(4001, 9)\n",
            "\n",
            "The column names of the DataFrame are:\n",
            "Index(['A_id', 'Size', 'Weight', 'Sweetness', 'Crunchiness', 'Juiciness',\n",
            "       'Ripeness', 'Acidity', 'Quality'],\n",
            "      dtype='object')\n",
            "\n",
            "The data types of each column are:\n",
            "A_id           float64\n",
            "Size           float64\n",
            "Weight         float64\n",
            "Sweetness      float64\n",
            "Crunchiness    float64\n",
            "Juiciness      float64\n",
            "Ripeness       float64\n",
            "Acidity         object\n",
            "Quality         object\n",
            "dtype: object\n",
            "\n",
            "Summary statistics of the DataFrame:\n",
            "              A_id         Size       Weight    Sweetness  Crunchiness  \\\n",
            "count  4001.000000  4001.000000  4001.000000  4001.000000  4001.000000   \n",
            "mean   1999.500000    -0.503015    -0.989547    -0.470479     0.985478   \n",
            "std    1154.700502     1.927818     1.602307     1.943198     1.402582   \n",
            "min       0.000000    -7.151703    -7.149848    -6.894485    -6.055058   \n",
            "25%    1000.000000    -1.816202    -2.011767    -1.738424     0.062865   \n",
            "50%    1999.500000    -0.513569    -0.984984    -0.504307     0.997933   \n",
            "75%    2999.000000     0.805329     0.029773     0.801810     1.893586   \n",
            "max    3999.000000     6.406367     5.790714     6.374916     7.619852   \n",
            "\n",
            "         Juiciness     Ripeness  \n",
            "count  4001.000000  4001.000000  \n",
            "mean      0.512118     0.498277  \n",
            "std       1.930044     1.874192  \n",
            "min      -5.961897    -5.864599  \n",
            "25%      -0.801238    -0.770970  \n",
            "50%       0.533504     0.502737  \n",
            "75%       1.835903     1.765281  \n",
            "max       7.364403     7.237837  \n",
            "\n",
            "The number of missing values in each column are:\n",
            "A_id           0\n",
            "Size           0\n",
            "Weight         0\n",
            "Sweetness      0\n",
            "Crunchiness    0\n",
            "Juiciness      0\n",
            "Ripeness       0\n",
            "Acidity        0\n",
            "Quality        1\n",
            "dtype: int64\n",
            "\n",
            "DataFrame after dropping duplicates:\n",
            "   A_id      Size    Weight  Sweetness  Crunchiness  Juiciness  Ripeness  \\\n",
            "0   0.0 -3.970049 -2.512336   5.346330    -1.012009   1.844900  0.329840   \n",
            "1   1.0 -1.195217 -2.839257   3.664059     1.588232   0.853286  0.867530   \n",
            "2   2.0 -0.292024 -1.351282  -1.738429    -0.342616   2.838636 -0.038033   \n",
            "3   3.0 -0.657196 -2.271627   1.324874    -0.097875   3.637970 -3.413761   \n",
            "4   4.0  1.364217 -1.296612  -0.384658    -0.553006   3.030874 -1.303849   \n",
            "\n",
            "        Acidity Quality  \n",
            "0  -0.491590483    good  \n",
            "1  -0.722809367    good  \n",
            "2   2.621636473     bad  \n",
            "3   0.790723217    good  \n",
            "4   0.501984036    good  \n"
          ]
        }
      ],
      "source": [
        "# Display the first 5 rows of the DataFrame\n",
        "print(\"Displaying the first 5 rows of the DataFrame:\")\n",
        "print(df.head())\n",
        "\n",
        "# Display the last 5 rows of the DataFrame\n",
        "print(\"\\nDisplaying the last 5 rows of the DataFrame:\")\n",
        "print(df.tail())\n",
        "\n",
        "# Display the shape of the DataFrame\n",
        "print(\"\\nThe shape of the DataFrame is:\")\n",
        "print(df.shape)\n",
        "\n",
        "# Display the column names of the DataFrame\n",
        "print(\"\\nThe column names of the DataFrame are:\")\n",
        "print(df.columns)\n",
        "\n",
        "# Display the data types of each column\n",
        "print(\"\\nThe data types of each column are:\")\n",
        "print(df.dtypes)\n",
        "\n",
        "# Display summary statistics of the DataFrame\n",
        "print(\"\\nSummary statistics of the DataFrame:\")\n",
        "print(df.describe())\n",
        "\n",
        "# Display the number of missing values in each column\n",
        "print(\"\\nThe number of missing values in each column are:\")\n",
        "print(df.isnull().sum())\n",
        "\n",
        "# Fill missing values with the mean (for numerical columns)\n",
        "df.fillna(df.mean(numeric_only=True), inplace=True)\n",
        "\n",
        "# Drop duplicates\n",
        "df.drop_duplicates(inplace=True)\n",
        "print(\"\\nDataFrame after dropping duplicates:\")\n",
        "print(df.head())"
      ]
    },
    {
      "cell_type": "code",
      "execution_count": null,
      "id": "5d14450d",
      "metadata": {
        "id": "5d14450d",
        "outputId": "a509ec38-da0b-44f1-b3b8-073bc4c2200e"
      },
      "outputs": [
        {
          "name": "stdout",
          "output_type": "stream",
          "text": [
            "Return the number of dimensions of an array:\n",
            "2\n",
            "Return the size of the fram along the axis\n",
            "36009\n"
          ]
        }
      ],
      "source": [
        "# Return the number of dimensions of an array.\n",
        "print(\"Return the number of dimensions of an array:\")\n",
        "print(df.ndim)\n",
        "\n",
        "# Return the size of the fram along the axis\n",
        "print(\"Return the size of the fram along the axis\")\n",
        "print(df.size)"
      ]
    },
    {
      "cell_type": "code",
      "execution_count": null,
      "id": "158d925d",
      "metadata": {
        "id": "158d925d",
        "outputId": "85868fea-b710-47a0-e03f-5d5a71a0abbc"
      },
      "outputs": [
        {
          "data": {
            "text/plain": [
              "A_id             int64\n",
              "Size           float64\n",
              "Weight         float64\n",
              "Sweetness      float64\n",
              "Crunchiness    float64\n",
              "Juiciness      float64\n",
              "Ripeness       float64\n",
              "Acidity         object\n",
              "Quality         object\n",
              "dtype: object"
            ]
          },
          "execution_count": 15,
          "metadata": {},
          "output_type": "execute_result"
        }
      ],
      "source": [
        "# Assuming df is your DataFrame and 'A_id' is the column\n",
        "df['A_id'] = df['A_id'].astype('int64')\n",
        "\n",
        "# Print the datatypes and display the changes\n",
        "df.dtypes"
      ]
    },
    {
      "cell_type": "code",
      "execution_count": null,
      "id": "e392d417",
      "metadata": {
        "id": "e392d417",
        "outputId": "ab7bb2f8-f998-4bb6-9728-0aeae58297fc"
      },
      "outputs": [
        {
          "name": "stdout",
          "output_type": "stream",
          "text": [
            "      Quality_bad  Quality_good\n",
            "0               0             1\n",
            "1               0             1\n",
            "2               1             0\n",
            "3               0             1\n",
            "4               0             1\n",
            "...           ...           ...\n",
            "3996            0             1\n",
            "3997            1             0\n",
            "3998            0             1\n",
            "3999            0             1\n",
            "4000            0             0\n",
            "\n",
            "[4001 rows x 2 columns]\n"
          ]
        }
      ],
      "source": [
        "# Assuming df is your DataFrame and 'Quality' is the column\n",
        "quality_dummies = pd.get_dummies(df['Quality'], prefix='Quality')\n",
        "print(quality_dummies)"
      ]
    },
    {
      "cell_type": "code",
      "execution_count": null,
      "id": "cfed842f",
      "metadata": {
        "id": "cfed842f",
        "outputId": "ed5b0872-981c-4230-e22d-e07cf404c170"
      },
      "outputs": [
        {
          "name": "stdout",
          "output_type": "stream",
          "text": [
            "        Weight  Quality_bad  Quality_good\n",
            "0    -2.512336            0             1\n",
            "1    -2.839257            0             1\n",
            "2    -1.351282            1             0\n",
            "3    -2.271627            0             1\n",
            "4    -1.296612            0             1\n",
            "...        ...          ...           ...\n",
            "3996  1.949253            0             1\n",
            "3997 -2.138247            1             0\n",
            "3998 -1.779337            0             1\n",
            "3999 -1.715505            0             1\n",
            "4000 -0.989547            0             0\n",
            "\n",
            "[4001 rows x 3 columns]\n"
          ]
        }
      ],
      "source": [
        "# Assuming df is your original DataFrame and quality_dummies is the DataFrame with dummy variables\n",
        "df_with_dummies = pd.concat([df['Weight'], quality_dummies], axis=1)\n",
        "print(df_with_dummies)"
      ]
    },
    {
      "cell_type": "code",
      "execution_count": null,
      "id": "f91ea3c3",
      "metadata": {
        "id": "f91ea3c3",
        "outputId": "952f5470-c00b-441c-959d-59adddb44ee4"
      },
      "outputs": [
        {
          "name": "stdout",
          "output_type": "stream",
          "text": [
            "<class 'pandas.core.frame.DataFrame'>\n",
            "Int64Index: 8000033 entries, 0 to 8000032\n",
            "Data columns (total 17 columns):\n",
            " #   Column         Dtype  \n",
            "---  ------         -----  \n",
            " 0   A_id_x         int64  \n",
            " 1   Size_x         float64\n",
            " 2   Weight_x       float64\n",
            " 3   Sweetness_x    float64\n",
            " 4   Crunchiness_x  float64\n",
            " 5   Juiciness_x    float64\n",
            " 6   Ripeness_x     float64\n",
            " 7   Acidity_x      object \n",
            " 8   Quality        object \n",
            " 9   A_id_y         int64  \n",
            " 10  Size_y         float64\n",
            " 11  Weight_y       float64\n",
            " 12  Sweetness_y    float64\n",
            " 13  Crunchiness_y  float64\n",
            " 14  Juiciness_y    float64\n",
            " 15  Ripeness_y     float64\n",
            " 16  Acidity_y      object \n",
            "dtypes: float64(12), int64(2), object(3)\n",
            "memory usage: 1.1+ GB\n",
            "None\n"
          ]
        }
      ],
      "source": [
        "# Merging data with itself\n",
        "merged_dataframe = pd.merge(df, df, on='Quality')\n",
        "print(merged_dataframe.info())"
      ]
    },
    {
      "cell_type": "code",
      "execution_count": null,
      "id": "1127a7ad",
      "metadata": {
        "id": "1127a7ad"
      },
      "outputs": [],
      "source": []
    }
  ],
  "metadata": {
    "kernelspec": {
      "display_name": "Python 3 (ipykernel)",
      "language": "python",
      "name": "python3"
    },
    "language_info": {
      "codemirror_mode": {
        "name": "ipython",
        "version": 3
      },
      "file_extension": ".py",
      "mimetype": "text/x-python",
      "name": "python",
      "nbconvert_exporter": "python",
      "pygments_lexer": "ipython3",
      "version": "3.10.9"
    },
    "colab": {
      "provenance": []
    }
  },
  "nbformat": 4,
  "nbformat_minor": 5
}